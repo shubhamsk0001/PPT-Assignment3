{
 "cells": [
  {
   "cell_type": "code",
   "execution_count": null,
   "id": "177a19ce",
   "metadata": {},
   "outputs": [],
   "source": [
    "Question 1\n",
    "Given an integer array nums of length n and an integer target, find three integers\n",
    "in nums such that the sum is closest to the target.\n",
    "Return the sum of the three integers.\n",
    "\n",
    "You may assume that each input would have exactly one solution.\n",
    "\n",
    "Example 1:\n",
    "Input: nums = [-1,2,1,-4], target = 1\n",
    "Output: 2\n",
    "\n",
    "Explanation: The sum that is closest to the target is 2. (-1 + 2 + 1 = 2)."
   ]
  },
  {
   "cell_type": "code",
   "execution_count": 1,
   "id": "e8547bc6",
   "metadata": {},
   "outputs": [
    {
     "name": "stdout",
     "output_type": "stream",
     "text": [
      "2\n"
     ]
    }
   ],
   "source": [
    "def threeSumClosest( nums, target):\n",
    "        nums.sort()\n",
    "        ans,cdiff,pdiff=0,0,100000\n",
    "        for n,i in enumerate(nums):\n",
    "            j,k=n+1,len(nums)-1\n",
    "            if(n>0 and i==nums[n-1]): continue\n",
    "            while(j<k):\n",
    "                    summ=i+nums[j]+nums[k]\n",
    "                    cdiff=abs(summ-target)\n",
    "                    if pdiff>cdiff:\n",
    "                        ans=summ\n",
    "                        pdiff=cdiff\n",
    "                    if(summ==target): return target\n",
    "                    elif(summ<target):  \n",
    "                        j+=1\n",
    "                    else:\n",
    "                        k-=1\n",
    "        return ans\n",
    "print(threeSumClosest([-1,2,1,-4],1))"
   ]
  },
  {
   "cell_type": "code",
   "execution_count": null,
   "id": "187f4ea8",
   "metadata": {},
   "outputs": [],
   "source": [
    "Question 2\n",
    "Given an array nums of n integers, return an array of all the unique quadruplets\n",
    "[nums[a], nums[b], nums[c], nums[d]] such that:\n",
    "           ● 0 <= a, b, c, d < n\n",
    "           ● a, b, c, and d are distinct.\n",
    "           ● nums[a] + nums[b] + nums[c] + nums[d] == target\n",
    "\n",
    "You may return the answer in any order.\n",
    "\n",
    "Example 1:\n",
    "Input: nums = [1,0,-1,0,-2,2], target = 0\n",
    "Output: [[-2,-1,1,2],[-2,0,0,2],[-1,0,0,1]]"
   ]
  },
  {
   "cell_type": "code",
   "execution_count": 2,
   "id": "9515a20c",
   "metadata": {},
   "outputs": [
    {
     "name": "stdout",
     "output_type": "stream",
     "text": [
      "[[-2, -1, 1, 2], [-2, 0, 0, 2], [-1, 0, 0, 1]]\n"
     ]
    }
   ],
   "source": [
    "def fourSum(nums, target):\n",
    "    # Resultant list\n",
    "    quadruplets = list()\n",
    "    # Base condition\n",
    "    if nums is None or len(nums) < 4:\n",
    "        return quadruplets\n",
    "    # Sort the array\n",
    "    nums.sort()\n",
    "    # Length of the array\n",
    "    n = len(nums)\n",
    "    # Loop for each element of the array\n",
    "    for i in range(0, n - 3):\n",
    "        # Check for skipping duplicates\n",
    "        if i > 0 and nums[i] == nums[i - 1]:\n",
    "            continue\n",
    "        # Reducing to three sum problem\n",
    "        for j in range(i + 1, n - 2):\n",
    "            # Check for skipping duplicates\n",
    "            if j != i + 1 and nums[j] == nums[j - 1]:\n",
    "                continue\n",
    "            # Left and right pointers\n",
    "            k = j + 1\n",
    "            l = n - 1\n",
    "            # Reducing to two sum problem\n",
    "            while k < l:\n",
    "                current_sum = nums[i] + nums[j] + nums[k] + nums[l]\n",
    "                if current_sum < target:\n",
    "                    k += 1\n",
    "                elif current_sum > target:\n",
    "                    l -= 1\n",
    "                else:\n",
    "                    quadruplets.append([nums[i], nums[j], nums[k], nums[l]])\n",
    "                    k += 1\n",
    "                    l -= 1\n",
    "                    while k < l and nums[k] == nums[k - 1]:\n",
    "                        k += 1\n",
    "                    while k < l and nums[l] == nums[l + 1]:\n",
    "                        l -= 1\n",
    "    return quadruplets\n",
    "print(fourSum([1,0,-1,0,-2,2],0))"
   ]
  },
  {
   "cell_type": "code",
   "execution_count": null,
   "id": "713673a5",
   "metadata": {},
   "outputs": [],
   "source": [
    " **Question 3**\n",
    "A permutation of an array of integers is an arrangement of its members into a\n",
    "sequence or linear order.\n",
    "\n",
    "For example, for arr = [1,2,3], the following are all the permutations of arr:\n",
    "[1,2,3], [1,3,2], [2, 1, 3], [2, 3, 1], [3,1,2], [3,2,1].\n",
    "\n",
    "The next permutation of an array of integers is the next lexicographically greater\n",
    "permutation of its integer. More formally, if all the permutations of the array are\n",
    "sorted in one container according to their lexicographical order, then the next\n",
    "permutation of that array is the permutation that follows it in the sorted container.\n",
    "\n",
    "If such an arrangement is not possible, the array must be rearranged as the\n",
    "lowest possible order (i.e., sorted in ascending order).\n",
    "\n",
    "● For example, the next permutation of arr = [1,2,3] is [1,3,2].\n",
    "● Similarly, the next permutation of arr = [2,3,1] is [3,1,2].\n",
    "● While the next permutation of arr = [3,2,1] is [1,2,3] because [3,2,1] does not\n",
    "have a lexicographical larger rearrangement.\n",
    "\n",
    "Given an array of integers nums, find the next permutation of nums.\n",
    "The replacement must be in place and use only constant extra memory.\n",
    "\n",
    "**Example 1:**\n",
    "Input: nums = [1,2,3]\n",
    "Output: [1,3,2]"
   ]
  },
  {
   "cell_type": "code",
   "execution_count": 6,
   "id": "f95969cf",
   "metadata": {},
   "outputs": [
    {
     "name": "stdout",
     "output_type": "stream",
     "text": [
      "[1, 3, 2]\n"
     ]
    }
   ],
   "source": [
    "    def nextPermutation( nums):\n",
    "        l=len(nums)-2\n",
    "        while l>=0:\n",
    "            if nums[l]<nums[l+1]:\n",
    "                s=len(nums)-1\n",
    "                while s>l:\n",
    "                    if nums[s]>nums[l]:\n",
    "                        nums[l],nums[s]=nums[s],nums[l] \n",
    "                        arr=(nums[:l+1]+sorted(nums[l+1:]))\n",
    "                        nums[:]=arr[:]\n",
    "                        return nums\n",
    "                    s-=1\n",
    "            l-=1\n",
    "        else:\n",
    "            nums.reverse()\n",
    "            return nums\n",
    "    print(nextPermutation([1,2,3]))    "
   ]
  },
  {
   "cell_type": "code",
   "execution_count": null,
   "id": "fd76b4bb",
   "metadata": {},
   "outputs": [],
   "source": [
    "Question 4\n",
    "Given a sorted array of distinct integers and a target value, return the index if the\n",
    "target is found. If not, return the index where it would be if it were inserted in\n",
    "order.\n",
    "\n",
    "You must write an algorithm with O(log n) runtime complexity.\n",
    "\n",
    "Example 1:\n",
    "Input: nums = [1,3,5,6], target = 5\n",
    "Output: 2"
   ]
  },
  {
   "cell_type": "code",
   "execution_count": 12,
   "id": "232c5b36",
   "metadata": {},
   "outputs": [
    {
     "name": "stdout",
     "output_type": "stream",
     "text": [
      "2\n"
     ]
    }
   ],
   "source": [
    "    def searchInsert(nums, target):\n",
    "        # Last and First indexes\n",
    "        start = 0\n",
    "        end = len(nums) - 1\n",
    "        \n",
    "        # Traverse an array\n",
    "        while (start <= end):\n",
    "            \n",
    "            mid = (start + end)//2\n",
    "             \n",
    "            # if target value found.\n",
    "            if nums[mid] == target:\n",
    "                return mid\n",
    "            \n",
    "            # If target value is greater then mid elements's value\n",
    "            elif target > nums[mid]:\n",
    "                start = mid + 1\n",
    "                \n",
    "            # otherwise target value is less, \n",
    "            else:\n",
    "                end = mid -1\n",
    "        # Return the insertion position\n",
    "        return end + 1\n",
    "    print(searchInsert([1,3,5,6],5))"
   ]
  },
  {
   "cell_type": "code",
   "execution_count": null,
   "id": "fa5543f4",
   "metadata": {},
   "outputs": [],
   "source": [
    " **Question 5**\n",
    "You are given a large integer represented as an integer array digits, where each\n",
    "digits[i] is the ith digit of the integer. The digits are ordered from most significant\n",
    "to least significant in left-to-right order. The large integer does not contain any\n",
    "leading 0's.\n",
    "\n",
    "Increment the large integer by one and return the resulting array of digits.\n",
    "\n",
    "**Example 1:**\n",
    "Input: digits = [1,2,3]\n",
    "Output: [1,2,4]\n",
    "\n",
    "**Explanation:** The array represents the integer 123.\n",
    "Incrementing by one gives 123 + 1 = 124.\n",
    "Thus, the result should be [1,2,4]."
   ]
  },
  {
   "cell_type": "code",
   "execution_count": 13,
   "id": "9c6ec995",
   "metadata": {},
   "outputs": [
    {
     "name": "stdout",
     "output_type": "stream",
     "text": [
      "[1, 2, 4]\n"
     ]
    }
   ],
   "source": [
    "def plusOne(digits):\n",
    "    digit_length = len(digits)\n",
    "        \n",
    "    i = digit_length - 1\n",
    "        \n",
    "    while digits[i] == 9 and i >= 0:\n",
    "        i -= 1\n",
    "        \n",
    "    if i == -1:\n",
    "        results = [0]*(digit_length + 1)\n",
    "        results[0] = 1\n",
    "        return results\n",
    "        \n",
    "    results = [0]*(digit_length)\n",
    "        \n",
    "    results[i] = digits[i] + 1\n",
    "        \n",
    "    for j in range(i-1, -1, -1):\n",
    "        results[j] = digits[j]\n",
    "        \n",
    "    return results\n",
    "print(plusOne([1,2,3]))"
   ]
  },
  {
   "cell_type": "code",
   "execution_count": null,
   "id": "c07bf391",
   "metadata": {},
   "outputs": [],
   "source": [
    "Question 6\n",
    "Given a non-empty array of integers nums, every element appears twice except\n",
    "for one. Find that single one.\n",
    "\n",
    "You must implement a solution with a linear runtime complexity and use only\n",
    "constant extra space.\n",
    "\n",
    "Example 1:\n",
    "Input: nums = [2,2,1]\n",
    "Output: 1"
   ]
  },
  {
   "cell_type": "code",
   "execution_count": 14,
   "id": "4eb16ff0",
   "metadata": {},
   "outputs": [
    {
     "name": "stdout",
     "output_type": "stream",
     "text": [
      "Element occurring once is 1\n"
     ]
    }
   ],
   "source": [
    "def findSingle(A, ar_size):\n",
    "    \n",
    "    # iterate over every element\n",
    "    for i in range(ar_size):\n",
    "        \n",
    "        # Initialize count to 0\n",
    "        count = 0\n",
    "        for j in range(ar_size):\n",
    "            \n",
    "            # Count the frequency\n",
    "            # of the element\n",
    "            if(A[i] == A[j]):\n",
    "                count += 1\n",
    "  \n",
    "        # If the frequency of\n",
    "        # the element is one\n",
    "        if(count == 1):\n",
    "            return A[i]\n",
    "            \n",
    "    # If no element exist\n",
    "    # at most once\n",
    "    return -1\n",
    "  \n",
    "ar = [2,2,1]\n",
    "n = len(ar)\n",
    "# Function call\n",
    "print(\"Element occurring once is\", findSingle(ar, n))"
   ]
  },
  {
   "cell_type": "code",
   "execution_count": null,
   "id": "d5a90a81",
   "metadata": {},
   "outputs": [],
   "source": [
    "Question 7\n",
    "You are given an inclusive range [lower, upper] and a sorted unique integer array\n",
    "nums, where all elements are within the inclusive range.\n",
    "\n",
    "A number x is considered missing if x is in the range [lower, upper] and x is not in\n",
    "nums.\n",
    "\n",
    "Return the shortest sorted list of ranges that exactly covers all the missing\n",
    "numbers. That is, no element of nums is included in any of the ranges, and each\n",
    "missing number is covered by one of the ranges.\n",
    "\n",
    "Example 1:\n",
    "Input: nums = [0,1,3,50,75], lower = 0, upper = 99\n",
    "Output: [[2,2],[4,49],[51,74],[76,99]]\n",
    "\n",
    "Explanation: The ranges are:\n",
    "[2,2]\n",
    "[4,49]\n",
    "[51,74]\n",
    "[76,99]"
   ]
  },
  {
   "cell_type": "code",
   "execution_count": 16,
   "id": "be18d270",
   "metadata": {},
   "outputs": [
    {
     "name": "stdout",
     "output_type": "stream",
     "text": [
      "2 4 5 6 7 8 9 10 11 12 13 14 15 16 17 18 19 20 21 22 23 24 25 26 27 28 29 30 31 32 33 34 35 36 37 38 39 40 41 42 43 44 45 46 47 48 49 51 52 53 54 55 56 57 58 59 60 61 62 63 64 65 66 67 68 69 70 71 72 73 74 76 77 78 79 80 81 82 83 84 85 86 87 88 89 90 91 92 93 94 95 96 97 98 99 "
     ]
    }
   ],
   "source": [
    "def findMissing(arr, n, low, high):\n",
    "    # Loop through the range of numbers from low to high\n",
    "    for i in range(low, high+1):\n",
    "        found = False\n",
    "     \n",
    "        # Loop through the array to check if i exists in it\n",
    "        for j in range(n):\n",
    "            if arr[j] == i:\n",
    "                found = True\n",
    "                break\n",
    "     \n",
    "        # If i is not found in the array, print it\n",
    "        if not found:\n",
    "            print(i, end=' ')\n",
    "arr = [0,1,3,50,75]\n",
    "n = len(arr)\n",
    "low = 0\n",
    "high = 99\n",
    "findMissing(arr, n, low, high)"
   ]
  },
  {
   "cell_type": "code",
   "execution_count": null,
   "id": "adf74cfc",
   "metadata": {},
   "outputs": [],
   "source": [
    "Question 8\n",
    "Given an array of meeting time intervals where intervals[i] = [starti, endi],\n",
    "determine if a person could attend all meetings.\n",
    "\n",
    "Example 1:\n",
    "Input: intervals = [[0,30],[5,10],[15,20]]\n",
    "Output: false"
   ]
  },
  {
   "cell_type": "code",
   "execution_count": 24,
   "id": "bf283ab7",
   "metadata": {},
   "outputs": [
    {
     "name": "stdout",
     "output_type": "stream",
     "text": [
      "False\n"
     ]
    }
   ],
   "source": [
    "def canAttendMeetings(intervals):\n",
    "        new_intervals = sorted(intervals, key=lambda x: x[0])\n",
    "        for i in range(1,len(new_intervals)):\n",
    "            if new_intervals[i-1][1] > new_intervals[i][0]:return False\n",
    "        return True\n",
    "print(canAttendMeetings([[0,30],[5,10],[15,20]]))"
   ]
  }
 ],
 "metadata": {
  "kernelspec": {
   "display_name": "Python 3 (ipykernel)",
   "language": "python",
   "name": "python3"
  },
  "language_info": {
   "codemirror_mode": {
    "name": "ipython",
    "version": 3
   },
   "file_extension": ".py",
   "mimetype": "text/x-python",
   "name": "python",
   "nbconvert_exporter": "python",
   "pygments_lexer": "ipython3",
   "version": "3.9.12"
  }
 },
 "nbformat": 4,
 "nbformat_minor": 5
}
